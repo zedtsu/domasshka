{
  "nbformat": 4,
  "nbformat_minor": 0,
  "metadata": {
    "colab": {
      "provenance": [],
      "authorship_tag": "ABX9TyN1osSGpRMHaIcAl+ixChaZ",
      "include_colab_link": true
    },
    "kernelspec": {
      "name": "python3",
      "display_name": "Python 3"
    },
    "language_info": {
      "name": "python"
    }
  },
  "cells": [
    {
      "cell_type": "markdown",
      "metadata": {
        "id": "view-in-github",
        "colab_type": "text"
      },
      "source": [
        "<a href=\"https://colab.research.google.com/github/zedtsu/domasshka/blob/main/dz10.ipynb\" target=\"_parent\"><img src=\"https://colab.research.google.com/assets/colab-badge.svg\" alt=\"Open In Colab\"/></a>"
      ]
    },
    {
      "cell_type": "code",
      "source": [
        "import pandas as pd\n",
        "import seaborn as sns"
      ],
      "metadata": {
        "id": "FXlyJjeS_Hxy"
      },
      "execution_count": 166,
      "outputs": []
    },
    {
      "cell_type": "markdown",
      "source": [
        "Задача 1. Найдите, какая область центрального федерального округа имела наибольшую численность студентов вечерней формы обучения в 2015 году."
      ],
      "metadata": {
        "id": "jzwF0XDQZmxs"
      }
    },
    {
      "cell_type": "code",
      "source": [
        "df = pd.read_csv('https://drive.google.com/u/0/uc?id=1r4wmzkie9QdR_Nku1ha7k7yl_6-232Zk&export=download', sep = ';', encoding='cp1251')\n",
        "\n",
        "df"
      ],
      "metadata": {
        "id": "guoppg4r_Ny2"
      },
      "execution_count": null,
      "outputs": []
    },
    {
      "cell_type": "code",
      "source": [
        "df = pd.DataFrame(df, columns=['Субъект РФ', 'Численность студентов очно-заочная (вечерняя) форма, человек, 2015'])\n",
        "\n",
        "df = pd.DataFrame.max(df)\n",
        "\n",
        "df"
      ],
      "metadata": {
        "colab": {
          "base_uri": "https://localhost:8080/"
        },
        "id": "P5p-dgPpdRSJ",
        "outputId": "d048bcfb-656a-4f49-88d5-96c21ad2f3b5"
      },
      "execution_count": 168,
      "outputs": [
        {
          "output_type": "execute_result",
          "data": {
            "text/plain": [
              "Субъект РФ                                                            Южный федеральный округ\n",
              "Численность студентов очно-заочная (вечерняя) форма, человек, 2015                     149102\n",
              "dtype: object"
            ]
          },
          "metadata": {},
          "execution_count": 168
        }
      ]
    },
    {
      "cell_type": "markdown",
      "source": [
        "Задача 2. Постройте диаграмму с данными о численности студентов дневной формы обучения южного федерального округа за 2017 год.\n",
        "\n"
      ],
      "metadata": {
        "id": "ONtoK2Dmhhhv"
      }
    },
    {
      "cell_type": "code",
      "source": [
        "from matplotlib import axes\n",
        "df = pd.read_csv('https://drive.google.com/u/0/uc?id=1r4wmzkie9QdR_Nku1ha7k7yl_6-232Zk&export=download', sep = ';', encoding='cp1251')\n",
        "\n",
        "df = df.iloc[[32]]\n",
        "df = pd.DataFrame(df, columns= ['Субъекты РФ','Численность студентов, очная форма, человек, 2017'])\n",
        "\n",
        "plot = sns.barplot(df)\n",
        "\n",
        "plot\n",
        "df"
      ],
      "metadata": {
        "id": "9ZlCbaBZhaNJ"
      },
      "execution_count": null,
      "outputs": []
    },
    {
      "cell_type": "markdown",
      "source": [
        "Задача 3. Постройте диаграмму количества студентов заочной формы обучения за 2019 год по всем регионам, в которых общее количество студентов не превышает 10000 за данный год."
      ],
      "metadata": {
        "id": "5S8scc0O0ivc"
      }
    },
    {
      "cell_type": "code",
      "source": [
        "df = pd.read_csv('https://drive.google.com/u/0/uc?id=1r4wmzkie9QdR_Nku1ha7k7yl_6-232Zk&export=download', sep = ';', encoding='cp1251')\n",
        "\n",
        "df"
      ],
      "metadata": {
        "id": "jLZJblJo0lJ7"
      },
      "execution_count": null,
      "outputs": []
    },
    {
      "cell_type": "code",
      "source": [
        "df = df[df['Численность студентов заочная форма, человек, 2019'] < 10000]\n",
        "\n",
        "df = pd.DataFrame(df, columns = ['Субъекты РФ', 'Численность студентов заочная форма, человек, 2019'])\n",
        "\n",
        "plot = sns.barplot(df)\n",
        "\n",
        "plot\n",
        "df"
      ],
      "metadata": {
        "id": "vgaZShRd0p8J"
      },
      "execution_count": null,
      "outputs": []
    }
  ]
}